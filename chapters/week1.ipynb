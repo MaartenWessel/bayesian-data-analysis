{
 "cells": [
  {
   "cell_type": "markdown",
   "metadata": {},
   "source": [
    "\n",
    "\n",
    " Setup\n",
    "\n",
    "\n",
    "\\- Create repository folders, explain what these folders are for. DAC, RDC,\n",
    "\n",
    "\n",
    "DSC.\n",
    "\n",
    "\n",
    " \\- Store data in DAC\n",
    "\n",
    "\n",
    " \\- Create matlab folder\n",
    "\n",
    "\n",
    " \\- create a tmp.m file (temporary, at the end of the session this should\n",
    "\n",
    "\n",
    " be renamed\n",
    "\n",
    "\n",
    "\n",
    " Initialization\n",
    "\n",
    "\n",
    " when running the script, choose change folder\n",
    "\n",
    ""
   ]
  },
  {
   "cell_type": "code",
   "execution_count": 1,
   "metadata": {},
   "source": [
    "close all;\n",
    "clear;\n",
    "\n",
    "% running the script will prompt the message: tmp.m cannot be found on\n",
    "\n",
    "% path. It will ask to do something. Choose: change folder.\n",
    "fname = fullfile('..','datasets','NH-0115-22-10-07-data.mat'); % file name, relative path\n",
    "load(fname);\n",
    ""
   ],
   "outputs": []
}
 ],
 "metadata": {
  "kernelspec": {
   "display_name": "MATLAB (matlabkernel)",
   "language": "matlab",
   "name": "matlab"
  },
  "language_info": {
   "file_extension": ".m",
   "mimetype": "text/matlab",
   "name": "matlab",
   "nbconvert_exporter": "matlab",
   "pygments_lexer": "matlab",
   "version": "24.1.0.2628055"
  }
 },
 "nbformat": 4,
 "nbformat_minor": 4
}